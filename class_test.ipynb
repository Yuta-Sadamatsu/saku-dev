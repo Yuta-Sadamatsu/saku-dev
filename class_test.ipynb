{
 "cells": [
  {
   "cell_type": "code",
   "execution_count": 8,
   "metadata": {},
   "outputs": [],
   "source": [
    "class Shop:\n",
    "    #コンストラクター\n",
    "    def __init__(self, male, female):\n",
    "        #インスタンス変数\n",
    "        self.male = male\n",
    "        self.female = female\n",
    "        #メソッド\n",
    "    def total(self):\n",
    "        return(self.male + self.female)"
   ]
  },
  {
   "cell_type": "code",
   "execution_count": 9,
   "metadata": {},
   "outputs": [],
   "source": [
    "#インスタンス\n",
    "cake = Shop(male=50, female=300)\n",
    "\n",
    "burger = Shop(male=500, female=30)"
   ]
  },
  {
   "cell_type": "code",
   "execution_count": 4,
   "metadata": {},
   "outputs": [
    {
     "data": {
      "text/plain": [
       "<__main__.Shop at 0x7f17f027c3d0>"
      ]
     },
     "execution_count": 4,
     "metadata": {},
     "output_type": "execute_result"
    }
   ],
   "source": [
    "cake"
   ]
  },
  {
   "cell_type": "code",
   "execution_count": 10,
   "metadata": {},
   "outputs": [
    {
     "data": {
      "text/plain": [
       "50"
      ]
     },
     "execution_count": 10,
     "metadata": {},
     "output_type": "execute_result"
    }
   ],
   "source": [
    "cake.male"
   ]
  },
  {
   "cell_type": "code",
   "execution_count": 11,
   "metadata": {},
   "outputs": [
    {
     "data": {
      "text/plain": [
       "350"
      ]
     },
     "execution_count": 11,
     "metadata": {},
     "output_type": "execute_result"
    }
   ],
   "source": [
    "cake.total()"
   ]
  },
  {
   "cell_type": "markdown",
   "metadata": {},
   "source": [
    "インスタンスの基礎"
   ]
  },
  {
   "cell_type": "code",
   "execution_count": 1,
   "metadata": {},
   "outputs": [
    {
     "name": "stdout",
     "output_type": "stream",
     "text": [
      "円の半径： 10\n",
      "円の面積： 100\n"
     ]
    }
   ],
   "source": [
    "class Circle:\n",
    "    #インスタンス変数を初期化\n",
    "    def __init__(self, radius):\n",
    "        self.radius = radius\n",
    "\n",
    "    #関数を定義\n",
    "    def area(self):\n",
    "        return radius * radius\n",
    "\n",
    "radius = 10\n",
    "\n",
    "#インスタンスの生成\n",
    "circle = Circle(radius)\n",
    "\n",
    "print(\"円の半径：\", radius)\n",
    "print(\"円の面積：\", circle.area())\n"
   ]
  },
  {
   "cell_type": "markdown",
   "metadata": {},
   "source": []
  }
 ],
 "metadata": {
  "kernelspec": {
   "display_name": "udemy_data_preprocessing_env",
   "language": "python",
   "name": "python3"
  },
  "language_info": {
   "codemirror_mode": {
    "name": "ipython",
    "version": 3
   },
   "file_extension": ".py",
   "mimetype": "text/x-python",
   "name": "python",
   "nbconvert_exporter": "python",
   "pygments_lexer": "ipython3",
   "version": "3.10.12"
  }
 },
 "nbformat": 4,
 "nbformat_minor": 2
}
